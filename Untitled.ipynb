{
 "cells": [
  {
   "cell_type": "code",
   "execution_count": 4,
   "metadata": {},
   "outputs": [],
   "source": [
    "def places(x1, x2, x3):\n",
    "    if (x3 > x1) & (x3 > x2):\n",
    "#         print(\"The sole first place\")\n",
    "        return 1\n",
    "    if ((x3 == x1) & (x3 > x2)) | ((x3 == x2) & (x3 > x1)):\n",
    "#         print(\"Two-way tie for first place\")\n",
    "        return 2\n",
    "    if ((x3 > x1) & (x3 < x2)) | ((x3 < x1) & (x3 > x2)):\n",
    "#         print(\"The sole second place\")\n",
    "        return 3\n",
    "    if (x3 == x1) & (x3 == x2):\n",
    "#         print(\"Three-way tie\")\n",
    "        return 4\n",
    "    if ((x1 > x3) & (x2 == x3)) | ((x2 > x3) & (x1 == x3)):\n",
    "#         print(\"Two-way tie for the last place\")\n",
    "        return 5\n",
    "    if (x1 > x3) & (x2 > x3):\n",
    "#         print(\"The sole last place\")\n",
    "        return 6\n",
    "def coming(x1, x2, x3):\n",
    "    return places(x1, x2, x3) <= 3"
   ]
  },
  {
   "cell_type": "code",
   "execution_count": 5,
   "metadata": {},
   "outputs": [],
   "source": [
    "import matplotlib.pyplot as plt\n",
    "import numpy as np\n",
    "from matplotlib.colors import LogNorm"
   ]
  },
  {
   "cell_type": "code",
   "execution_count": 6,
   "metadata": {},
   "outputs": [],
   "source": [
    "def cumulative_distribution(x):\n",
    "    return np.exp(x)/np.exp(0)-1    #exp\n",
    "#     return x                        #uniform"
   ]
  },
  {
   "cell_type": "code",
   "execution_count": 7,
   "metadata": {},
   "outputs": [],
   "source": [
    "def third(x1, x2):\n",
    "    voting = np.ones((n, m))\n",
    "    r = np.linspace(0.0, 1.0, num=m)\n",
    "    for i in range(len(y)):\n",
    "        for j in range(len(r)):\n",
    "            u1 = x1[0] - abs(x1[1] - y[i])\n",
    "            u2 = x2[0] - abs(x2[1] - y[i])\n",
    "            uN = - abs(r[j] - y[i])\n",
    "            voting[i][j] = coming(u1, u2, uN)\n",
    "    result = voting.sum(axis=0)\n",
    "    return result.argmax()"
   ]
  },
  {
   "cell_type": "code",
   "execution_count": 8,
   "metadata": {},
   "outputs": [],
   "source": [
    "def choice_first():\n",
    "    voting_first = np.ones((n, m))\n",
    "    cr = np.linspace(0.0, 1.0, num=m)\n",
    "    for i in range(n):\n",
    "        for j in range(m):\n",
    "            voting_first[i][j] = x1[0] - abs(cr[j] - y[i])\n",
    "    print(voting_first)\n",
    "    plt.pcolormesh(voting_first, cmap = 'PuBu')\n",
    "    result = voting_first.sum(axis=0)\n",
    "    print(result)\n",
    "    maxvote = np.max(result)\n",
    "    result = list(filter(lambda x: x[0] == maxvote, zip(result, range(len(result)))))\n",
    "    result = np.array(list(map(lambda x: x[1], result)))\n",
    "#     print(result.mean())\n",
    "    return result.mean()/(m-1)"
   ]
  },
  {
   "cell_type": "code",
   "execution_count": 74,
   "metadata": {},
   "outputs": [],
   "source": [
    "def choice_second(x1):\n",
    "    voting_second = np.ones((n, m))\n",
    "    cr = np.linspace(0.0, 1.0, num=m)\n",
    "    for i in range(n):\n",
    "        for j in range(m):\n",
    "            u1 = x1[0] - abs(x1[1] - y[i])\n",
    "            u2 = x2[0] - abs(cr[j] - y[i])\n",
    "            if u2 >= u1:\n",
    "                voting_second[i][j] = u2\n",
    "            else: \n",
    "                voting_second[i][j] = -0.5+x1[0]\n",
    "    print(voting_second)\n",
    "#     plt.pcolormesh(voting_second, cmap = 'PuBu')\n",
    "    result = voting_second.sum(axis=0)\n",
    "    print(result)\n",
    "    maxvote = np.max(result)\n",
    "#     print(np.min(voting_second))\n",
    "    result = list(filter(lambda x: x[0] == maxvote, zip(result, range(len(result)))))\n",
    "    print(result)\n",
    "    result = np.array(list(map(lambda x: x[1], result)))\n",
    "    print(result)\n",
    "    return result.mean()/(m-1)"
   ]
  },
  {
   "cell_type": "code",
   "execution_count": 75,
   "metadata": {},
   "outputs": [
    {
     "name": "stdout",
     "output_type": "stream",
     "text": [
      "[[ 0.    -0.001 -0.002 ... -0.3   -0.3   -0.3  ]\n",
      " [-0.001  0.    -0.001 ... -0.3   -0.3   -0.3  ]\n",
      " [-0.002 -0.001  0.    ... -0.3   -0.3   -0.3  ]\n",
      " ...\n",
      " [-0.3   -0.3   -0.3   ...  0.    -0.001 -0.002]\n",
      " [-0.3   -0.3   -0.3   ... -0.001  0.    -0.001]\n",
      " [-0.3   -0.3   -0.3   ... -0.002 -0.001  0.   ]]\n",
      "[-266.475 -266.176 -266.029 ... -266.029 -266.176 -266.475]\n",
      "[(-246.12000000000359, 180)]\n",
      "[180]\n"
     ]
    },
    {
     "data": {
      "text/plain": [
       "0.18"
      ]
     },
     "execution_count": 75,
     "metadata": {},
     "output_type": "execute_result"
    }
   ],
   "source": [
    "choice_second(x1)"
   ]
  },
  {
   "cell_type": "code",
   "execution_count": 76,
   "metadata": {},
   "outputs": [],
   "source": [
    "def choice_third(x1, x2):\n",
    "    voting_third = np.ones((n, m))\n",
    "    cr = np.linspace(0.0, 1.0, num=m)\n",
    "    for i in range(n):\n",
    "        for j in range(m):\n",
    "            u1 = x1[0] - abs(x1[1] - y[i])\n",
    "            u2 = x2[0] - abs(x2[1] - y[i])\n",
    "            uN =       - abs(cr[j] - y[i])\n",
    "            if coming(u1, u2, uN):\n",
    "                voting_third[i][j] = uN\n",
    "            else: \n",
    "                voting_third[i][j] = -1\n",
    "    print(voting_third)\n",
    "    plt.pcolormesh(voting_third, cmap = 'PuBu')\n",
    "    result = voting_third.sum(axis=0)\n",
    "    maxvote = np.max(result)\n",
    "    print(np.min(voting_third))\n",
    "    result = list(filter(lambda x: x[0] == maxvote, zip(result, range(len(result)))))\n",
    "    result = np.array(list(map(lambda x: x[1], result)))\n",
    "    return result.mean()/(m-1)"
   ]
  },
  {
   "cell_type": "code",
   "execution_count": 10,
   "metadata": {},
   "outputs": [],
   "source": [
    "n = 1001\n",
    "m = 1001\n",
    "x = np.linspace(0.0, 1.0, num=n)\n",
    "y = cumulative_distribution(x)\n",
    "#y - ideal point\n",
    "x1 = (0.2, 0)\n",
    "x2 = (0, 0)\n",
    "xN = (0, 0)\n",
    "# 0 - valence\n",
    "# 1 - policy position"
   ]
  },
  {
   "cell_type": "code",
   "execution_count": 11,
   "metadata": {},
   "outputs": [],
   "source": [
    "# plt.pcolormesh(voting, cmap = 'PuBu_r')"
   ]
  },
  {
   "cell_type": "code",
   "execution_count": 12,
   "metadata": {},
   "outputs": [
    {
     "name": "stdout",
     "output_type": "stream",
     "text": [
      "[[ 0.2         0.199       0.198      ... -0.798      -0.799\n",
      "  -0.8       ]\n",
      " [ 0.1989995   0.1999995   0.1990005  ... -0.7969995  -0.7979995\n",
      "  -0.7989995 ]\n",
      " [ 0.197998    0.198998    0.199998   ... -0.795998   -0.796998\n",
      "  -0.797998  ]\n",
      " ...\n",
      " [-1.5128507  -1.5118507  -1.5108507  ... -0.5148507  -0.5138507\n",
      "  -0.5128507 ]\n",
      " [-1.51556491 -1.51456491 -1.51356491 ... -0.51756491 -0.51656491\n",
      "  -0.51556491]\n",
      " [-1.51828183 -1.51728183 -1.51628183 ... -0.52028183 -0.51928183\n",
      "  -0.51828183]]\n",
      "[-518.94111256 -517.94211256 -516.94511156 ... -290.75933052 -291.14433052\n",
      " -291.5299192 ]\n"
     ]
    },
    {
     "data": {
      "text/plain": [
       "(0.2, 0.649)"
      ]
     },
     "execution_count": 12,
     "metadata": {},
     "output_type": "execute_result"
    },
    {
     "data": {
      "image/png": "[encoded data removed]",
      "text/plain": [
       "<Figure size 432x288 with 1 Axes>"
      ]
     },
     "metadata": {
      "needs_background": "light"
     },
     "output_type": "display_data"
    }
   ],
   "source": [
    "x1 = (x1[0], choice_first())\n",
    "x1"
   ]
  },
  {
   "cell_type": "code",
   "execution_count": 80,
   "metadata": {},
   "outputs": [
    {
     "name": "stdout",
     "output_type": "stream",
     "text": [
      "[[ 0.    -0.001 -0.002 ... -0.3   -0.3   -0.3  ]\n",
      " [-0.001  0.    -0.001 ... -0.3   -0.3   -0.3  ]\n",
      " [-0.002 -0.001  0.    ... -0.3   -0.3   -0.3  ]\n",
      " ...\n",
      " [-0.3   -0.3   -0.3   ...  0.    -0.001 -0.002]\n",
      " [-0.3   -0.3   -0.3   ... -0.001  0.    -0.001]\n",
      " [-0.3   -0.3   -0.3   ... -0.002 -0.001  0.   ]]\n",
      "[-266.475 -266.176 -266.029 ... -266.029 -266.176 -266.475]\n",
      "[(-246.12000000000359, 180)]\n",
      "[180]\n"
     ]
    },
    {
     "data": {
      "text/plain": [
       "(0, 0.18)"
      ]
     },
     "execution_count": 80,
     "metadata": {},
     "output_type": "execute_result"
    }
   ],
   "source": [
    "x2 = (x2[0], choice_second(x1))\n",
    "x2"
   ]
  },
  {
   "cell_type": "code",
   "execution_count": 81,
   "metadata": {},
   "outputs": [
    {
     "name": "stdout",
     "output_type": "stream",
     "text": [
      "[[-0.    -0.001 -0.002 ... -1.    -1.    -1.   ]\n",
      " [-0.001 -0.    -0.001 ... -1.    -1.    -1.   ]\n",
      " [-0.002 -0.001 -0.    ... -1.    -1.    -1.   ]\n",
      " ...\n",
      " [-1.    -1.    -1.    ... -0.    -0.001 -0.002]\n",
      " [-1.    -1.    -1.    ... -0.001 -0.    -0.001]\n",
      " [-1.    -1.    -1.    ... -0.002 -0.001 -0.   ]]\n",
      "-1.0\n"
     ]
    },
    {
     "data": {
      "text/plain": [
       "(0, 0.299)"
      ]
     },
     "execution_count": 81,
     "metadata": {},
     "output_type": "execute_result"
    },
    {
     "data": {
      "image/png": "[encoded data removed]",
      "text/plain": [
       "<Figure size 432x288 with 1 Axes>"
      ]
     },
     "metadata": {
      "needs_background": "light"
     },
     "output_type": "display_data"
    }
   ],
   "source": [
    "xN = (xN[0], choice_third(x1, x2))\n",
    "xN"
   ]
  },
  {
   "cell_type": "code",
   "execution_count": null,
   "metadata": {},
   "outputs": [],
   "source": []
  },
  {
   "cell_type": "code",
   "execution_count": null,
   "metadata": {},
   "outputs": [],
   "source": []
  },
  {
   "cell_type": "code",
   "execution_count": null,
   "metadata": {},
   "outputs": [],
   "source": []
  }
 ],
 "metadata": {
  "kernelspec": {
   "display_name": "Python 3",
   "language": "python",
   "name": "python3"
  },
  "language_info": {
   "codemirror_mode": {
    "name": "ipython",
    "version": 3
   },
   "file_extension": ".py",
   "mimetype": "text/x-python",
   "name": "python",
   "nbconvert_exporter": "python",
   "pygments_lexer": "ipython3",
   "version": "3.7.1"
  }
 },
 "nbformat": 4,
 "nbformat_minor": 2
}
